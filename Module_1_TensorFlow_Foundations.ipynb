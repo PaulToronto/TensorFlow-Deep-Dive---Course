{
  "nbformat": 4,
  "nbformat_minor": 0,
  "metadata": {
    "colab": {
      "provenance": [],
      "toc_visible": true,
      "authorship_tag": "ABX9TyOO3vdDS7JHZkcmsCZboQHC",
      "include_colab_link": true
    },
    "kernelspec": {
      "name": "python3",
      "display_name": "Python 3"
    },
    "language_info": {
      "name": "python"
    }
  },
  "cells": [
    {
      "cell_type": "markdown",
      "metadata": {
        "id": "view-in-github",
        "colab_type": "text"
      },
      "source": [
        "<a href=\"https://colab.research.google.com/github/PaulToronto/TensorFlow-Deep-Dive---Course/blob/main/Module_1_TensorFlow_Foundations.ipynb\" target=\"_parent\"><img src=\"https://colab.research.google.com/assets/colab-badge.svg\" alt=\"Open In Colab\"/></a>"
      ]
    },
    {
      "cell_type": "markdown",
      "source": [
        "# Module 1: TensorFlow Foundations"
      ],
      "metadata": {
        "id": "gI6sF9k8ymOz"
      }
    },
    {
      "cell_type": "markdown",
      "source": [
        "## 1.1 The Emergence of TensorFlow"
      ],
      "metadata": {
        "id": "yN5MRmuwyqz6"
      }
    },
    {
      "cell_type": "markdown",
      "source": [
        "### Historical Context\n",
        "\n",
        "- 1950: Alan Turning, seminal paper, *Computing Machinery and Intelligence*\n",
        "- 1958: **Perceptron** was first implemented (invented in 1943)\n",
        "    - The perceptron is the basic mathematical concept underpinning Deep Learning algorithms\n",
        "    - It is a linear classifier than learns a **threshold function**\n",
        "- 1980s: **Support vector machines**\n",
        "- 1973: The **Lighthill Report** (James Lighthill), shined a light on limitations of early approaches to AI\n",
        "- Early 1970s: the first AI winter began\n",
        "- 1980s: AI winter ended with the advent of so-called expert systems\n",
        "    - Used control flow logic to approximate the behaviour of experts\n",
        "- End of 1980s: market for expert systems collapsed, the second AI winter\n",
        "    - ended with the defeat of chess master, Garry Kasparov at the hands of Deep Blue\n",
        "- late 1990s: investment in AI and machine learning has been substantial and sustained\n",
        "- 2000s: contributing factors emerge for the advent of the TensorFlow platform\n",
        "    - rise of Big Data platforms: Hadoop and Spark\n",
        "    - a wealth of public data\n",
        "    - started to see data-centric approaches to AI: ImageNet\n",
        "    - this period marked the advent of cloud computing as we understand it today\n",
        "- 2010: machine learning is beginning to industrialize\n",
        "    - TensorFlow and PyTorch are being developed\n",
        "- 2015: Google open-sourced TensorFlow\n",
        "- 2016: Facebook open-sourced PyTorch\n",
        "- From 2017 and on: consider maching learning to be in a new era, the era of the **transformer architecture**\n",
        "    - machine learning model and the neural network architecture became horizontally scalable\n",
        "    - resulted in **VERY** large files of model weights\n",
        "    - need lots of storage, including in memory storage of these model weights\n",
        "        - need distributed capablities built into machine learning platforms"
      ],
      "metadata": {
        "id": "NqRBNJZAzjSr"
      }
    },
    {
      "cell_type": "markdown",
      "source": [
        "## 1.2 What Open-Sourcing Means to Google and Facebook"
      ],
      "metadata": {
        "id": "v18j_i9155Xn"
      }
    },
    {
      "cell_type": "markdown",
      "source": [
        "### What Open Source means to Big Tech Companies\n",
        "\n",
        "- makes it easier to find and onboard developers who are already experienced with the tools that are used inside a big tech company\n",
        "- developers love open source software and they want to work on it\n"
      ],
      "metadata": {
        "id": "gYXSVzqk6aWm"
      }
    },
    {
      "cell_type": "markdown",
      "source": [
        "### Open Sourcing: Governance\n",
        "\n",
        "- Three options:\n",
        "  1. Led by corporations that own the open source project, like TensorFlow\n",
        "  2. Can be organic and influenced by a variety of interested stakeholders, like large scale governence by The Linux Foundation\n",
        "  3. Majority of open source projects are implemented with the use of pull requests and issues, built into GitHub\n",
        "    - Governed by the community\n",
        "    - **Pull requests**: submit incremental changes to code or documentation\n",
        "    - **Issues**: share information on how the project is being used\n",
        "- Open source software gives developers added assurance that the project will continue, even if the company that owns the project decides to drop it\n",
        "        "
      ],
      "metadata": {
        "id": "IH3xvpxP7Egj"
      }
    },
    {
      "cell_type": "markdown",
      "source": [
        "## 1.3 TensorFlow Applications"
      ],
      "metadata": {
        "id": "WEt4Mx-e97Tt"
      }
    },
    {
      "cell_type": "markdown",
      "source": [
        "### How AI is used today\n",
        "\n",
        "- Computer Vision\n",
        "    - Understaning and segmenting images\n",
        "    - Scene detection\n",
        "- Natural Language Processing\n",
        "    - Speech-to-Text (STT)\n",
        "    - Text-to-Speech (TTS)\n",
        "    - Machine Translation, like Google Translate\n",
        "    - Topic Modeling\n",
        "    - Natural Language Understanding\n",
        "- Reinforcement Learning\n",
        "    - Used for research into self-driving cars\n",
        "    - has been used to beat humans in some advanced games, like Go and chess\n",
        "    - some large language models use reinforcment learning from human feedback\n",
        "- Robotics\n",
        "- Military\n",
        "- Biomedical\n",
        "    - Drug discovery\n",
        "    - Protein folding\n",
        "- Artistic\n",
        "- Transformers\n",
        "    - used to construct large language models"
      ],
      "metadata": {
        "id": "-dK0DPBL-LEi"
      }
    },
    {
      "cell_type": "markdown",
      "source": [
        "### Integrating TensorFlow into an Application\n",
        "\n",
        "- integration machine learning into an application\n",
        "- important to help end users and other stakeholders understand what is happining with the machine learning model\n",
        "    - **interpretability** when the ML sytem is a black box\n",
        "    - models built with Tensorflow tend to be more of a black box than systems built with traditional statistical methods or other machine learning methodologies (like Sci-kit Learn)\n",
        "    - we don't really undertand what is happening at the neuron level\n",
        "        - we don't know why a particular neuron is acting the way that it does\n",
        "        - but, there are some methods that we can apply to a machine learning system that is built with TensorFlow that will allow us to understand what degree of confidence that a machine learning model has about a specific prediction, or, what factors led a machine learning model to predict that a particular class is the matching class to a particular input\n",
        "- in addition to interpretability, we want to know how **robust** a machine learning sytem is\n",
        "    - robust in the context of changing circumstances\n",
        "    - is it able to adapt, if for example, when an additional class to the predicted data arrises?\n",
        "- also concerned about the **security** of a system\n",
        "    - machine learning is not just vulnerable to the sort of attacks that traditional software is vulnerable to\n",
        "    - some vulnerabilities are specfif to machine learning systems\n",
        "- also concered about **privacy**\n",
        "    - TensorFlow provides a package for this called **TensorFlow Federated**\n"
      ],
      "metadata": {
        "id": "5uP0KVwYBU2D"
      }
    },
    {
      "cell_type": "markdown",
      "source": [
        "## 1.4 TensorFlow Core Projects and Beyond"
      ],
      "metadata": {
        "id": "Z23ZmnV9Ftw9"
      }
    },
    {
      "cell_type": "markdown",
      "source": [
        "### What is TensorFlow?\n",
        "\n",
        "- https://www.tensorflow.org/\n",
        "- an end-to-end platform for machine learning\n",
        "- there are four core projects in the TensorFlow organization\n",
        "  1. TensorFlow Core\n",
        "    - https://www.tensorflow.org/tutorials\n",
        "    - the Python library used for training and creating ML models\n",
        "  2. TensorFlow.js\n",
        "    - https://www.tensorflow.org/js\n",
        "    - for working with the JavaScript ecosystem\n",
        "    - including deplying models in your browser\n",
        "  3. TensorFlow Lite\n",
        "    - https://www.tensorflow.org/lite\n",
        "    - for mobile and edge devices\n",
        "  4. TensorFlow TFX\n",
        "    - https://www.tensorflow.org/tfx\n",
        "    - TFX: TensorFlow Extended\n",
        "    - for deploying production ML platforms\n",
        "- **Keras**\n",
        "    - high-level API for TensorFlow\n",
        "    - can making a developer productive very quickly\n",
        "    - since TensorFlow 2.0 the integration with Keras became part of the TensorFlow namespace: `tf.Keras` namespace\n",
        "        - makes it easier for developers to build and train models with TensorFlow\n",
        "    - KerasCV: Computer Vision\n",
        "        - image classification\n",
        "        - object detection\n",
        "        - data augmentation\n",
        "        - image generation\n",
        "    - KerasNLP: Natural Language Processing\n",
        "        - text classification\n",
        "        - text generation\n",
        "- **Libraries and Extension**:\n",
        "    - https://www.tensorflow.org/resources/libraries-extensions\n",
        "- **Reponsible AI**:\n",
        "    - https://www.tensorflow.org/responsible_ai\n",
        "    - Responsible AI guidelines:\n",
        "        - Fair\n",
        "        - Interpretable\n",
        "        - Privacy preserving\n",
        "        - Secure\n",
        "- New in 2023:\n",
        "    - **DTensors**\n",
        "        - distributed tensors\n",
        "    - **Quantization**\n",
        "        - an additional optimization capability that is most relevant to large language models\n",
        "- **TensorFlow Hub**:\n",
        "    - https://www.tensorflow.org/hub\n",
        "    - for publishing and downloading resuable machine learning models and datasets"
      ],
      "metadata": {
        "id": "d7yAVP1OGXXK"
      }
    }
  ]
}