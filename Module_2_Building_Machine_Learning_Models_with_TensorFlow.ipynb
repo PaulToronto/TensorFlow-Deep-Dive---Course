{
  "nbformat": 4,
  "nbformat_minor": 0,
  "metadata": {
    "colab": {
      "provenance": [],
      "toc_visible": true,
      "authorship_tag": "ABX9TyNuCP2W1GZ3ReS27rRMfccb",
      "include_colab_link": true
    },
    "kernelspec": {
      "name": "python3",
      "display_name": "Python 3"
    },
    "language_info": {
      "name": "python"
    }
  },
  "cells": [
    {
      "cell_type": "markdown",
      "metadata": {
        "id": "view-in-github",
        "colab_type": "text"
      },
      "source": [
        "<a href=\"https://colab.research.google.com/github/PaulToronto/TensorFlow-Deep-Dive---Course/blob/main/Module_2_Building_Machine_Learning_Models_with_TensorFlow.ipynb\" target=\"_parent\"><img src=\"https://colab.research.google.com/assets/colab-badge.svg\" alt=\"Open In Colab\"/></a>"
      ]
    },
    {
      "cell_type": "markdown",
      "source": [
        "# Module 2: Building Machine Learning Models with TensorFlow"
      ],
      "metadata": {
        "id": "7JAaCvm2OQzS"
      }
    },
    {
      "cell_type": "markdown",
      "source": [
        "## Imports"
      ],
      "metadata": {
        "id": "HmYzj8cIdh1Q"
      }
    },
    {
      "cell_type": "code",
      "source": [
        "import numpy as np"
      ],
      "metadata": {
        "id": "iVk07S-Cdjip"
      },
      "execution_count": null,
      "outputs": []
    },
    {
      "cell_type": "markdown",
      "source": [
        "## 2.1 Introduction to NumPy\n",
        "\n",
        "- NumPy provides bindings to high-peforming compiled languages\n",
        "    - Much more peformant for numerical computing than general Python objects\n",
        "- `.numpy` attached to some TensorFlow objects\n",
        "- NumPy idioms are used when working with the shape of TF objects\n",
        "- NumPy's basic object is teh **homogeneous multidimensional array**\n",
        "    - homogeneous it terms of `.dtype` of the elements\n",
        "    - https://numpy.org/doc/stable/user/basics.types.html\n",
        "- Excellent book for a deeper coverage of NumPy:\n",
        "    - https://learning.oreilly.com/library/view/python-data-science/9781098121211/"
      ],
      "metadata": {
        "id": "FsoNOP6KOU5u"
      }
    },
    {
      "cell_type": "code",
      "source": [
        "x = np.array([0, 0, 0])\n",
        "x.dtype, x.shape"
      ],
      "metadata": {
        "colab": {
          "base_uri": "https://localhost:8080/"
        },
        "id": "vcgqIJiFbh53",
        "outputId": "ee8f2d34-95e7-4dc5-d3d7-dbf28cf93380"
      },
      "execution_count": null,
      "outputs": [
        {
          "output_type": "execute_result",
          "data": {
            "text/plain": [
              "(dtype('int64'), (3,))"
            ]
          },
          "metadata": {},
          "execution_count": 2
        }
      ]
    },
    {
      "cell_type": "code",
      "source": [
        "x"
      ],
      "metadata": {
        "colab": {
          "base_uri": "https://localhost:8080/"
        },
        "id": "KCJpXmIpd4tQ",
        "outputId": "1603873a-8ab6-491c-f732-3c3ebc6f56e6"
      },
      "execution_count": null,
      "outputs": [
        {
          "output_type": "execute_result",
          "data": {
            "text/plain": [
              "array([0, 0, 0])"
            ]
          },
          "metadata": {},
          "execution_count": 3
        }
      ]
    },
    {
      "cell_type": "code",
      "source": [
        "print(x)"
      ],
      "metadata": {
        "colab": {
          "base_uri": "https://localhost:8080/"
        },
        "id": "aJqUw6sGeJVx",
        "outputId": "e9c1ab10-34dd-4484-ed08-8f0b96a27e0f"
      },
      "execution_count": null,
      "outputs": [
        {
          "output_type": "stream",
          "name": "stdout",
          "text": [
            "[0 0 0]\n"
          ]
        }
      ]
    },
    {
      "cell_type": "code",
      "source": [
        "y = np.ones([1, 3])\n",
        "y.dtype, y.shape"
      ],
      "metadata": {
        "colab": {
          "base_uri": "https://localhost:8080/"
        },
        "id": "9hS0kVHDdnMd",
        "outputId": "0ab7cbcc-825b-4817-a9fe-57a6fecdb2c2"
      },
      "execution_count": null,
      "outputs": [
        {
          "output_type": "execute_result",
          "data": {
            "text/plain": [
              "(dtype('float64'), (1, 3))"
            ]
          },
          "metadata": {},
          "execution_count": 5
        }
      ]
    },
    {
      "cell_type": "code",
      "source": [
        "y"
      ],
      "metadata": {
        "colab": {
          "base_uri": "https://localhost:8080/"
        },
        "id": "Gj3gvWWFdtd8",
        "outputId": "652e0d06-10bb-4bcd-e1e9-d73fcc6c5fd9"
      },
      "execution_count": null,
      "outputs": [
        {
          "output_type": "execute_result",
          "data": {
            "text/plain": [
              "array([[1., 1., 1.]])"
            ]
          },
          "metadata": {},
          "execution_count": 6
        }
      ]
    },
    {
      "cell_type": "code",
      "source": [
        "print(y)"
      ],
      "metadata": {
        "colab": {
          "base_uri": "https://localhost:8080/"
        },
        "id": "q0rL2v48eO-A",
        "outputId": "79efb313-8372-4a17-a906-5fdc2041d93a"
      },
      "execution_count": null,
      "outputs": [
        {
          "output_type": "stream",
          "name": "stdout",
          "text": [
            "[[1. 1. 1.]]\n"
          ]
        }
      ]
    },
    {
      "cell_type": "code",
      "source": [
        "x + y * 2"
      ],
      "metadata": {
        "colab": {
          "base_uri": "https://localhost:8080/"
        },
        "id": "4lWdPQl7dwz1",
        "outputId": "6931af96-eb1c-4404-b773-9187a152f193"
      },
      "execution_count": null,
      "outputs": [
        {
          "output_type": "execute_result",
          "data": {
            "text/plain": [
              "array([[2., 2., 2.]])"
            ]
          },
          "metadata": {},
          "execution_count": 8
        }
      ]
    },
    {
      "cell_type": "code",
      "source": [
        "# a pointer to a specific location in memory\n",
        "x.data"
      ],
      "metadata": {
        "colab": {
          "base_uri": "https://localhost:8080/"
        },
        "id": "r8VkMo-Deu0U",
        "outputId": "f4c5083a-8d76-4338-dfe9-9f296793f08d"
      },
      "execution_count": null,
      "outputs": [
        {
          "output_type": "execute_result",
          "data": {
            "text/plain": [
              "<memory at 0x7b02245e3ac0>"
            ]
          },
          "metadata": {},
          "execution_count": 9
        }
      ]
    },
    {
      "cell_type": "code",
      "source": [
        "y.data"
      ],
      "metadata": {
        "colab": {
          "base_uri": "https://localhost:8080/"
        },
        "id": "W_2V_mCuexSV",
        "outputId": "edc7d640-7547-4dda-bea7-65cdcf9023a6"
      },
      "execution_count": null,
      "outputs": [
        {
          "output_type": "execute_result",
          "data": {
            "text/plain": [
              "<memory at 0x7b022441a5a0>"
            ]
          },
          "metadata": {},
          "execution_count": 10
        }
      ]
    },
    {
      "cell_type": "markdown",
      "source": [
        "## 2.2 From Arrays to Tensors"
      ],
      "metadata": {
        "id": "Iiez_2_BgMuP"
      }
    }
  ]
}